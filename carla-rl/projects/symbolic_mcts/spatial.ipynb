{
 "cells": [
  {
   "cell_type": "code",
   "execution_count": 1,
   "source": [
    "import numpy as np\n",
    "import matplotlib.pyplot as plt\n",
    "import json"
   ],
   "outputs": [],
   "metadata": {}
  },
  {
   "cell_type": "code",
   "execution_count": 14,
   "source": [
    "path = '/zfsauton/datasets/ArgoRL/brianyan/carla_data_v4/09_20_02_09_35_70/0900.json'\n",
    "with open(path, 'r') as f:\n",
    "    sample = json.load(f)"
   ],
   "outputs": [],
   "metadata": {}
  },
  {
   "cell_type": "code",
   "execution_count": 15,
   "source": [
    "obs = sample['obs']\n",
    "\n",
    "ego_pts = obs['ego_features']['bounding_box']\n",
    "ego_pts = np.array(ego_pts)\n",
    "plt.scatter(ego_pts[:,0], ego_pts[:,1], color='red')\n",
    "\n",
    "vehicle_ids = list(obs['vehicle_features'].keys())\n",
    "for i in vehicle_ids:\n",
    "    pts = obs['vehicle_features'][i]['bounding_box']\n",
    "    pts = np.array(pts)\n",
    "\n",
    "    plt.scatter(pts[:,0], pts[:,1], color='blue')\n",
    "\n",
    "waypoints = obs['next_waypoints']\n",
    "waypoints = np.array(waypoints)\n",
    "plt.scatter(waypoints[:,0], waypoints[:,1], color='green')\n",
    "\n",
    "plt.xlim(-20, 20)\n",
    "plt.ylim(-20, 20)\n",
    "\n",
    "plt.show()"
   ],
   "outputs": [
    {
     "output_type": "display_data",
     "data": {
      "image/png": "[encoded data removed]",
      "text/plain": [
       "<Figure size 432x288 with 1 Axes>"
      ]
     },
     "metadata": {
      "needs_background": "light"
     }
    }
   ],
   "metadata": {}
  },
  {
   "cell_type": "code",
   "execution_count": 9,
   "source": [
    "plt.scatter(ego_pts[:,0], ego_pts[:,1], color='red')\n",
    "plt.scatter(other_pts[:,0], other_pts[:,1], color='blue')\n",
    "plt.show()"
   ],
   "outputs": [
    {
     "output_type": "display_data",
     "data": {
      "image/png": "[encoded data removed]",
      "text/plain": [
       "<Figure size 432x288 with 1 Axes>"
      ]
     },
     "metadata": {
      "needs_background": "light"
     }
    }
   ],
   "metadata": {}
  },
  {
   "cell_type": "code",
   "execution_count": null,
   "source": [],
   "outputs": [],
   "metadata": {}
  }
 ],
 "metadata": {
  "orig_nbformat": 4,
  "language_info": {
   "name": "python",
   "version": "3.7.10",
   "mimetype": "text/x-python",
   "codemirror_mode": {
    "name": "ipython",
    "version": 3
   },
   "pygments_lexer": "ipython3",
   "nbconvert_exporter": "python",
   "file_extension": ".py"
  },
  "kernelspec": {
   "name": "python3",
   "display_name": "Python 3.7.10 64-bit ('carla': conda)"
  },
  "interpreter": {
   "hash": "ba1c9fd9df72d68eeb91ff3ce115d539f5205ca2a60906dc5b7d5c47baa18d99"
  }
 },
 "nbformat": 4,
 "nbformat_minor": 2
}